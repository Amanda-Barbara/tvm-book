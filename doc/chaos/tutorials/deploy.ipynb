{
 "cells": [
  {
   "cell_type": "markdown",
   "metadata": {},
   "source": [
    "# 部署 TVM"
   ]
  },
  {
   "cell_type": "code",
   "execution_count": 3,
   "metadata": {},
   "outputs": [],
   "source": [
    "from pathlib import Path"
   ]
  },
  {
   "cell_type": "code",
   "execution_count": 15,
   "metadata": {},
   "outputs": [],
   "source": [
    "curr_path = Path(\".\").resolve()\n",
    "base_path = curr_path/\"lib\""
   ]
  },
  {
   "cell_type": "code",
   "execution_count": 20,
   "metadata": {},
   "outputs": [],
   "source": [
    "import tvm\n",
    "import numpy as np\n",
    "from tvm import te\n",
    "from tvm import relay\n",
    "\n",
    "\n",
    "def prepare_test_libs(base_path):\n",
    "    n = te.var(\"n\")\n",
    "    A = te.placeholder((n,), name=\"A\")\n",
    "    B = te.compute(A.shape, lambda *i: A(*i) + 1.0, name=\"B\")\n",
    "    s = te.create_schedule(B.op)\n",
    "    # Compile library as dynamic library\n",
    "    fadd_dylib = tvm.build(s, [A, B], \"llvm\", name=\"addone\")\n",
    "    dylib_path = str(base_path/\"test_addone_dll.so\")\n",
    "    fadd_dylib.export_library(dylib_path)\n",
    "\n",
    "    # Compile library in system library mode\n",
    "    fadd_syslib = tvm.build(s, [A, B], \"llvm --system-lib\", name=\"addonesys\")\n",
    "    syslib_path = str(base_path/\"test_addone_sys.o\")\n",
    "    fadd_syslib.save(syslib_path)\n",
    "\n",
    "\n",
    "def prepare_graph_lib(base_path):\n",
    "    x = relay.var(\"x\", shape=(2, 2), dtype=\"float32\")\n",
    "    y = relay.var(\"y\", shape=(2, 2), dtype=\"float32\")\n",
    "    params = {\"y\": np.ones((2, 2), dtype=\"float32\")}\n",
    "    mod = tvm.IRModule.from_expr(relay.Function([x, y], x + y))\n",
    "    # build a module\n",
    "    compiled_lib = relay.build(mod, tvm.target.Target(\"llvm\"), params=params)\n",
    "    # export it as a shared library\n",
    "    # If you are running cross compilation, you can also consider export\n",
    "    # to tar and invoke host compiler later.\n",
    "    dylib_path = str(base_path/\"test_relay_add.so\")\n",
    "    compiled_lib.export_library(dylib_path)"
   ]
  },
  {
   "cell_type": "code",
   "execution_count": 24,
   "metadata": {},
   "outputs": [],
   "source": [
    "def verify(mod, fname):\n",
    "    # Get the function from the module\n",
    "    f = mod.get_function(fname)\n",
    "    # Use tvm.nd.array to convert numpy ndarray to tvm\n",
    "    # NDArray type, so that function can be invoked normally\n",
    "    N = 10\n",
    "    x = tvm.nd.array(np.arange(N, dtype=np.float32))\n",
    "    y = tvm.nd.array(np.zeros(N, dtype=np.float32))\n",
    "    # Invoke the function\n",
    "    f(x, y)\n",
    "    np_x = x.numpy()\n",
    "    np_y = y.numpy()\n",
    "    # Verify correctness of function\n",
    "    assert np.all([xi + 1 == yi for xi, yi in zip(np_x, np_y)])\n",
    "    print(\"Finish verification...\")"
   ]
  },
  {
   "cell_type": "code",
   "execution_count": 25,
   "metadata": {},
   "outputs": [
    {
     "name": "stdout",
     "output_type": "stream",
     "text": [
      "Verify dynamic loading from test_addone_dll.so\n",
      "Finish verification...\n"
     ]
    }
   ],
   "source": [
    "# The normal dynamic loading method for deployment\n",
    "mod_dylib = tvm.runtime.load_module(\"lib/test_addone_dll.so\")\n",
    "print(\"Verify dynamic loading from test_addone_dll.so\")\n",
    "verify(mod_dylib, \"addone\")"
   ]
  },
  {
   "cell_type": "code",
   "execution_count": 27,
   "metadata": {},
   "outputs": [
    {
     "data": {
      "text/plain": [
       "Module(library, 55fb48ef5148)"
      ]
     },
     "execution_count": 27,
     "metadata": {},
     "output_type": "execute_result"
    }
   ],
   "source": [
    "mod_dylib"
   ]
  },
  {
   "cell_type": "code",
   "execution_count": null,
   "metadata": {},
   "outputs": [],
   "source": []
  }
 ],
 "metadata": {
  "interpreter": {
   "hash": "ee40e4cbda3c4716866f133b45765e0887afdbc9aa3bd872ab229f889d521355"
  },
  "kernelspec": {
   "display_name": "Python 3.10.4 ('mx')",
   "language": "python",
   "name": "python3"
  },
  "language_info": {
   "codemirror_mode": {
    "name": "ipython",
    "version": 3
   },
   "file_extension": ".py",
   "mimetype": "text/x-python",
   "name": "python",
   "nbconvert_exporter": "python",
   "pygments_lexer": "ipython3",
   "version": "3.10.4"
  },
  "orig_nbformat": 4
 },
 "nbformat": 4,
 "nbformat_minor": 2
}
