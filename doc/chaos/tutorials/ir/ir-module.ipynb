{
 "cells": [
  {
   "cell_type": "markdown",
   "metadata": {},
   "source": [
    "# 快速上手 IRModule"
   ]
  },
  {
   "cell_type": "code",
   "execution_count": 1,
   "metadata": {},
   "outputs": [],
   "source": [
    "from IPython.display import display_svg\n",
    "import tvm\n",
    "from tvm.script.parser import ir_module\n",
    "from tvm.ir.module import IRModule\n",
    "from tvm.script import tir as T\n",
    "import numpy as np"
   ]
  },
  {
   "cell_type": "code",
   "execution_count": 2,
   "metadata": {},
   "outputs": [
    {
     "name": "stdout",
     "output_type": "stream",
     "text": [
      "<class 'tvm.ir.module.IRModule'>\n",
      "# from tvm.script import tir as T\n",
      "@tvm.script.ir_module\n",
      "class Module:\n",
      "    @T.prim_func\n",
      "    def main(A: T.Buffer[8, \"float32\"], B: T.Buffer[8, \"float32\"]) -> None:\n",
      "        # function attr dict\n",
      "        T.func_attr({\"global_symbol\": \"main\", \"tir.noalias\": True})\n",
      "        # body\n",
      "        # with T.block(\"root\")\n",
      "        for i in T.serial(8):\n",
      "            with T.block(\"B\"):\n",
      "                vi = T.axis.spatial(8, i)\n",
      "                T.reads(A[vi])\n",
      "                T.writes(B[vi])\n",
      "                B[vi] = A[vi] + T.float32(1)\n",
      "    \n",
      "\n"
     ]
    }
   ],
   "source": [
    "@ir_module\n",
    "class MyModule:\n",
    "    @T.prim_func\n",
    "    def main(a: T.handle, b: T.handle):\n",
    "        # We exchange data between function by handles, which are similar to pointer.\n",
    "        T.func_attr({\"global_symbol\": \"main\", \"tir.noalias\": True})\n",
    "        # Create buffer from handles.\n",
    "        A = T.match_buffer(a, (8,), dtype=\"float32\")\n",
    "        B = T.match_buffer(b, (8,), dtype=\"float32\")\n",
    "        for i in range(8):\n",
    "            # A block is an abstraction for computation.\n",
    "            with T.block(\"B\"):\n",
    "                # Define a spatial block iterator and bind it to value i.\n",
    "                vi = T.axis.spatial(8, i)\n",
    "                B[vi] = A[vi] + 1.0\n",
    "\n",
    "\n",
    "ir_module = MyModule\n",
    "print(type(ir_module))\n",
    "print(ir_module.script())"
   ]
  },
  {
   "cell_type": "code",
   "execution_count": 3,
   "metadata": {},
   "outputs": [
    {
     "name": "stdout",
     "output_type": "stream",
     "text": [
      "# from tvm.script import tir as T\n",
      "@tvm.script.ir_module\n",
      "class Module:\n",
      "    @T.prim_func\n",
      "    def main(A: T.Buffer[8, \"float32\"], B: T.Buffer[8, \"float32\"]) -> None:\n",
      "        # function attr dict\n",
      "        T.func_attr({\"global_symbol\": \"main\", \"tir.noalias\": True})\n",
      "        # body\n",
      "        # with T.block(\"root\")\n",
      "        for i0 in T.serial(8):\n",
      "            with T.block(\"B\"):\n",
      "                i0_1 = T.axis.spatial(8, i0)\n",
      "                T.reads(A[i0_1])\n",
      "                T.writes(B[i0_1])\n",
      "                B[i0_1] = A[i0_1] + T.float32(1)\n",
      "    \n",
      "\n"
     ]
    }
   ],
   "source": [
    "from tvm import te\n",
    "\n",
    "A = te.placeholder((8,), dtype=\"float32\", name=\"A\")\n",
    "B = te.compute((8,), lambda *i: A(*i) + 1.0, name=\"B\")\n",
    "func = te.create_prim_func([A, B])\n",
    "ir_module_from_te = IRModule({\"main\": func})\n",
    "print(ir_module_from_te.script())"
   ]
  },
  {
   "cell_type": "code",
   "execution_count": 4,
   "metadata": {},
   "outputs": [
    {
     "data": {
      "text/plain": [
       "PrimFunc([a, b]) attrs={\"global_symbol\": \"main\", \"tir.noalias\": (bool)1} {\n",
       "  block root() {\n",
       "    reads([])\n",
       "    writes([])\n",
       "    for (i, 0, 8) {\n",
       "      block B(iter_var(vi, range(min=0, ext=8))) {\n",
       "        bind(vi, i)\n",
       "        reads([A[vi]])\n",
       "        writes([B[vi]])\n",
       "        B[vi] = (A[vi] + 1f)\n",
       "      }\n",
       "    }\n",
       "  }\n",
       "}"
      ]
     },
     "execution_count": 4,
     "metadata": {},
     "output_type": "execute_result"
    }
   ],
   "source": [
    "ir_module[\"main\"]"
   ]
  },
  {
   "cell_type": "code",
   "execution_count": 5,
   "metadata": {},
   "outputs": [
    {
     "name": "stdout",
     "output_type": "stream",
     "text": [
      "<class 'tvm.driver.build_module.OperatorModule'>\n"
     ]
    }
   ],
   "source": [
    "mod = tvm.build(ir_module, target=\"llvm\")  # 用于 CPU 后端的模块\n",
    "print(type(mod))"
   ]
  },
  {
   "cell_type": "code",
   "execution_count": 6,
   "metadata": {},
   "outputs": [
    {
     "name": "stdout",
     "output_type": "stream",
     "text": [
      "[0. 1. 2. 3. 4. 5. 6. 7.]\n",
      "[1. 2. 3. 4. 5. 6. 7. 8.]\n"
     ]
    }
   ],
   "source": [
    "a = tvm.nd.array(np.arange(8).astype(\"float32\"))\n",
    "b = tvm.nd.array(np.zeros((8,)).astype(\"float32\"))\n",
    "mod(a, b)\n",
    "print(a)\n",
    "print(b)"
   ]
  },
  {
   "cell_type": "code",
   "execution_count": 7,
   "metadata": {},
   "outputs": [],
   "source": [
    "sch = tvm.tir.Schedule(ir_module)"
   ]
  },
  {
   "cell_type": "code",
   "execution_count": 8,
   "metadata": {},
   "outputs": [
    {
     "name": "stdout",
     "output_type": "stream",
     "text": [
      "# from tvm.script import tir as T\n",
      "@tvm.script.ir_module\n",
      "class Module:\n",
      "    @T.prim_func\n",
      "    def main(A: T.Buffer[8, \"float32\"], B: T.Buffer[8, \"float32\"]) -> None:\n",
      "        # function attr dict\n",
      "        T.func_attr({\"global_symbol\": \"main\", \"tir.noalias\": True})\n",
      "        # body\n",
      "        # with T.block(\"root\")\n",
      "        for i_0, i_1, i_2 in T.grid(2, 2, 2):\n",
      "            with T.block(\"B\"):\n",
      "                vi = T.axis.spatial(8, i_0 * 4 + i_1 * 2 + i_2)\n",
      "                T.reads(A[vi])\n",
      "                T.writes(B[vi])\n",
      "                B[vi] = A[vi] + T.float32(1)\n",
      "    \n",
      "\n"
     ]
    }
   ],
   "source": [
    "# 按 name 获取 block\n",
    "block_b = sch.get_block(\"B\")\n",
    "# 获取 block 周围的 loops\n",
    "(i,) = sch.get_loops(block_b)\n",
    "# 平铺（tile）循环嵌套。\n",
    "i_0, i_1, i_2 = sch.split(i, factors=[2, 2, 2])\n",
    "print(sch.mod.script())"
   ]
  },
  {
   "cell_type": "code",
   "execution_count": 11,
   "metadata": {},
   "outputs": [
    {
     "data": {
      "text/plain": [
       "PrimFunc([a, b]) attrs={\"global_symbol\": \"main\", \"tir.noalias\": (bool)1} {\n",
       "  block root() {\n",
       "    reads([])\n",
       "    writes([])\n",
       "    for (i, 0, 8) {\n",
       "      block B(iter_var(vi, range(min=0, ext=8))) {\n",
       "        bind(vi, i)\n",
       "        reads([A[vi]])\n",
       "        writes([B[vi]])\n",
       "        B[vi] = (A[vi] + 1f)\n",
       "      }\n",
       "    }\n",
       "  }\n",
       "}"
      ]
     },
     "execution_count": 11,
     "metadata": {},
     "output_type": "execute_result"
    }
   ],
   "source": [
    "ir_module[\"main\"]"
   ]
  },
  {
   "cell_type": "code",
   "execution_count": null,
   "metadata": {},
   "outputs": [],
   "source": [
    "from tvm import te\n",
    "\n",
    "A = te.placeholder((8,), dtype=\"float32\", name=\"A\")\n",
    "B = te.compute((8,), lambda *i: A(*i) + 1.0, name=\"B\")\n",
    "func = te.create_prim_func([A, B])\n",
    "ir_module_from_te = IRModule({\"main\": func})\n",
    "print(ir_module_from_te.script())"
   ]
  }
 ],
 "metadata": {
  "kernelspec": {
   "display_name": "Python 3.10.4 ('mxnetx')",
   "language": "python",
   "name": "python3"
  },
  "language_info": {
   "codemirror_mode": {
    "name": "ipython",
    "version": 3
   },
   "file_extension": ".py",
   "mimetype": "text/x-python",
   "name": "python",
   "nbconvert_exporter": "python",
   "pygments_lexer": "ipython3",
   "version": "3.10.4"
  },
  "orig_nbformat": 4,
  "vscode": {
   "interpreter": {
    "hash": "aa67ff675248b5ab29dcd2f00c1422844307085c8ca7c8ce7eddecd21b9c2975"
   }
  }
 },
 "nbformat": 4,
 "nbformat_minor": 2
}
