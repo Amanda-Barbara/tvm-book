{
 "cells": [
  {
   "cell_type": "markdown",
   "metadata": {},
   "source": [
    "\n",
    "# PackedFunc\n",
    "\n",
    "Function 在 TVM 中起着沟通 front 和 backend 的关键作用。Function 提供了类型擦除接口（type-erased interface），您可以使用位置参数回调函数。\n",
    "\n",
    "- 编译后的模块返回 Function。\n",
    "- TVM 后端还将其 API 注册并暴露为 Function。\n",
    "\n",
    "{class}`~tvm.runtime.packed_func.PackedFunc` 常见使用场景：\n",
    "\n",
    "- 自动暴露 C++ API 到 Python。\n",
    "- 从 Python 端调用 PackedFunc。\n",
    "- 在生成代码（generated code）中回调 Python 回调来检查结果。\n",
    "- 将 Python 钩子（hook）引入 C++ 后端。\n",
    "\n",
    "\n",
    "(global-func)=\n",
    "## 全局函数\n",
    "\n",
    "- {func}`tvm.register_func` 用于注册全局函数。\n",
    "\n",
    "下面的代码将 `my_packed_func` 注册为全局函数。"
   ]
  },
  {
   "cell_type": "code",
   "execution_count": 1,
   "metadata": {},
   "outputs": [],
   "source": [
    "import tvm\n",
    "\n",
    "targs = (10, 10.0, \"hello\")\n",
    "@tvm.register_func\n",
    "def my_packed_func(*args):\n",
    "    assert(tuple(args) == targs)\n",
    "    return 10"
   ]
  },
  {
   "cell_type": "markdown",
   "metadata": {},
   "source": [
    "- {func}`tvm.get_global_func`：获取全局函数。\n",
    "\n",
    "注意，这里只是从全局函数表中返回它，然后从 Python 端回调它。但是，也可以从 C++ 后端或在编译后的 TVM 代码中回调相同的函数。"
   ]
  },
  {
   "cell_type": "code",
   "execution_count": 2,
   "metadata": {},
   "outputs": [],
   "source": [
    "from tvm.runtime.packed_func import PackedFunc\n",
    "# Get it out from global function table\n",
    "f = tvm.get_global_func(\"my_packed_func\")\n",
    "assert isinstance(f, PackedFunc)\n",
    "y = f(*targs)\n",
    "assert y == 10"
   ]
  },
  {
   "cell_type": "code",
   "execution_count": null,
   "metadata": {},
   "outputs": [],
   "source": []
  }
 ],
 "metadata": {
  "kernelspec": {
   "display_name": "Python 3.8.10 64-bit",
   "language": "python",
   "name": "python3"
  },
  "language_info": {
   "codemirror_mode": {
    "name": "ipython",
    "version": 3
   },
   "file_extension": ".py",
   "mimetype": "text/x-python",
   "name": "python",
   "nbconvert_exporter": "python",
   "pygments_lexer": "ipython3",
   "version": "3.6.9"
  },
  "orig_nbformat": 4,
  "vscode": {
   "interpreter": {
    "hash": "31f2aee4e71d21fbe5cf8b01ff0e069b9275f58929596ceb00d14d90e3e16cd6"
   }
  }
 },
 "nbformat": 4,
 "nbformat_minor": 2
}
