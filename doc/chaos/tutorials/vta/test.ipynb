{
 "cells": [
  {
   "cell_type": "markdown",
   "metadata": {},
   "source": [
    "# VTA 测试"
   ]
  },
  {
   "cell_type": "code",
   "execution_count": 1,
   "metadata": {},
   "outputs": [],
   "source": [
    "import logging\n",
    "from mxnet.gluon.model_zoo.vision import get_model\n",
    "\n",
    "from tvm import relay\n",
    "from tvm.driver import tvmc\n",
    "from tvm.driver.tvmc import TVMCModel, TVMCPackage, TVMCResult"
   ]
  },
  {
   "cell_type": "code",
   "execution_count": 2,
   "metadata": {},
   "outputs": [
    {
     "name": "stdout",
     "output_type": "stream",
     "text": [
      "Execution time summary:\n",
      " mean (ms)   median (ms)    max (ms)     min (ms)     std (ms)  \n",
      "  41.2985      42.7237      51.0308      22.5848       8.2324   \n",
      "               \n"
     ]
    }
   ],
   "source": [
    "pretrained = True\n",
    "shape_dict = {'data': (1, 3, 224, 224)}\n",
    "model_name = 'mobilenet1.0'\n",
    "out_dir = 'outputs'\n",
    "logging.basicConfig(filename=f'{out_dir}/{model_name}.log')\n",
    "logger = logging.getLogger(name='logger')\n",
    "logger.setLevel(logging.DEBUG)\n",
    "\n",
    "model = get_model(model_name, pretrained=pretrained)\n",
    "mod, params = relay.frontend.from_mxnet(model, shape_dict)\n",
    "model = TVMCModel(mod, params)\n",
    "tvmc.compile(model, target=\"llvm\", package_path=\"whatever\")\n",
    "new_package = TVMCPackage(package_path=\"whatever\")\n",
    "result = tvmc.run(new_package, device='cpu') #Step 3: Run\n",
    "logger.info(model.mod['main'].astext()) # 记录 mod\n",
    "print(result.format_times())\n",
    "result.save(f'{out_dir}/{model_name}_resluts')\n",
    "model.save(f\"{out_dir}/{model_name}.params\")"
   ]
  },
  {
   "cell_type": "code",
   "execution_count": 4,
   "metadata": {},
   "outputs": [
    {
     "name": "stdout",
     "output_type": "stream",
     "text": [
      "[Task  1/21]  Current/Best:    0.00/   0.00 GFLOPS | Progress: (0/476) | 0.00 s"
     ]
    },
    {
     "name": "stderr",
     "output_type": "stream",
     "text": [
      "/media/pc/data/4tb/lxw/anaconda3/envs/tvm-mxnet/lib/python3.10/site-packages/xgboost/compat.py:36: FutureWarning: pandas.Int64Index is deprecated and will be removed from pandas in a future version. Use pandas.Index with the appropriate dtype instead.\n",
      "  from pandas import MultiIndex, Int64Index\n"
     ]
    },
    {
     "name": "stdout",
     "output_type": "stream",
     "text": [
      "[Task  1/21]  Current/Best:   50.58/ 166.81 GFLOPS | Progress: (48/476) | 16.00 s"
     ]
    },
    {
     "name": "stderr",
     "output_type": "stream",
     "text": [
      "/media/pc/data/4tb/lxw/anaconda3/envs/tvm-mxnet/lib/python3.10/site-packages/xgboost/training.py:17: UserWarning: Old style callback is deprecated.  See: https://xgboost.readthedocs.io/en/latest/python/callbacks.html\n",
      "  warnings.warn(f'Old style callback is deprecated.  See: {link}', UserWarning)\n"
     ]
    },
    {
     "name": "stdout",
     "output_type": "stream",
     "text": [
      "[Task  1/21]  Current/Best:   21.20/ 253.41 GFLOPS | Progress: (264/476) | 91.10 s Done.\n",
      "[Task  2/21]  Current/Best:   43.16/ 308.59 GFLOPS | Progress: (476/476) | 179.28 s Done.\n",
      "[Task  3/21]  Current/Best:   15.24/ 328.74 GFLOPS | Progress: (476/476) | 171.79 s Done.\n",
      "[Task  5/21]  Current/Best:   73.62/ 354.71 GFLOPS | Progress: (48/476) | 15.28 s s Done.\n",
      "[Task  5/21]  Current/Best:   24.46/ 354.71 GFLOPS | Progress: (476/476) | 215.24 s Done.\n",
      "[Task  7/21]  Current/Best:   33.14/  96.04 GFLOPS | Progress: (48/476) | 22.35 s s Done.\n",
      "[Task  7/21]  Current/Best:   33.52/ 235.03 GFLOPS | Progress: (476/476) | 234.01 s Done.\n",
      "[Task  9/21]  Current/Best:   25.25/ 153.50 GFLOPS | Progress: (48/476) | 25.32 s s Done.\n",
      "[Task 10/21]  Current/Best:    1.60/  79.94 GFLOPS | Progress: (48/476) | 23.82 s s Done.\n",
      "[Task 11/21]  Current/Best:    0.00/   0.00 GFLOPS | Progress: (0/476) | 0.00 s96 s Done.\n",
      "[Task 11/21]  Current/Best:   54.27/ 136.25 GFLOPS | Progress: (476/476) | 256.76 s Done.\n",
      "[Task 13/21]  Current/Best:   29.91/ 216.00 GFLOPS | Progress: (48/476) | 25.27 s s Done.\n",
      "[Task 15/21]  Current/Best:   33.84/ 176.88 GFLOPS | Progress: (48/476) | 17.26 s s Done.\n",
      "[Task 15/21]  Current/Best:   47.96/ 253.72 GFLOPS | Progress: (476/476) | 175.76 s Done.\n",
      "[Task 17/21]  Current/Best:  123.52/ 370.75 GFLOPS | Progress: (288/476) | 128.25 s Done.\n",
      " Done.\n",
      "[Task 17/21]  Current/Best:   21.42/ 389.70 GFLOPS | Progress: (476/476) | 187.92 s Done.\n",
      "[Task 19/21]  Current/Best:   26.28/ 390.44 GFLOPS | Progress: (476/476) | 183.01 s Done.\n",
      "[Task 21/21]  Current/Best:   11.40/  53.22 GFLOPS | Progress: (48/476) | 21.56 ss Done.\n",
      "[Task 21/21]  Current/Best:    4.93/ 102.93 GFLOPS | Progress: (476/476) | 208.99 s"
     ]
    }
   ],
   "source": [
    "tuning_records = tvmc.tune(model, target=\"llvm\")"
   ]
  },
  {
   "cell_type": "code",
   "execution_count": 5,
   "metadata": {},
   "outputs": [
    {
     "name": "stdout",
     "output_type": "stream",
     "text": [
      "Execution time summary:\n",
      " mean (ms)   median (ms)    max (ms)     min (ms)     std (ms)  \n",
      "  22.4732      20.9165      54.9719       9.5562      13.0234   \n",
      "               \n",
      "Output Names:\n",
      " ['output_0']\n"
     ]
    }
   ],
   "source": [
    "tvmc_package = tvmc.compile(model, target=\"llvm\", tuning_records=tuning_records)\n",
    "result = tvmc.run(tvmc_package, device=\"cpu\")\n",
    "print(result)"
   ]
  },
  {
   "cell_type": "code",
   "execution_count": null,
   "metadata": {},
   "outputs": [],
   "source": []
  }
 ],
 "metadata": {
  "interpreter": {
   "hash": "f0a0fcc4cb7375f8ee907b3c51d5b9d65107fda1aab037a85df7b0c09b870b98"
  },
  "kernelspec": {
   "display_name": "Python 3.10.4 ('tvm-mxnet': conda)",
   "language": "python",
   "name": "python3"
  },
  "language_info": {
   "codemirror_mode": {
    "name": "ipython",
    "version": 3
   },
   "file_extension": ".py",
   "mimetype": "text/x-python",
   "name": "python",
   "nbconvert_exporter": "python",
   "pygments_lexer": "ipython3",
   "version": "3.10.4"
  },
  "orig_nbformat": 4
 },
 "nbformat": 4,
 "nbformat_minor": 2
}
