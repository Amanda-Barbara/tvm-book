{
 "cells": [
  {
   "attachments": {},
   "cell_type": "markdown",
   "metadata": {},
   "source": [
    "# TensorFlow1 pb 推理\n",
    "\n",
    "参考：[migrating_checkpoints](https://www.tensorflow.org/guide/migrate/migrating_checkpoints)\n",
    "\n",
    "下面以模型 [resnet_v2_50](http://download.tensorflow.org/models/resnet_v2_50_2017_04_14.tar.gz) 为例展示。\n",
    "\n",
    "需要克隆项目 [models](https://github.com/tensorflow/models)，然后执行如下操作。"
   ]
  },
  {
   "cell_type": "code",
   "execution_count": 1,
   "metadata": {},
   "outputs": [
    {
     "name": "stderr",
     "output_type": "stream",
     "text": [
      "2023-06-15 20:35:27.704544: I tensorflow/tsl/cuda/cudart_stub.cc:28] Could not find cuda drivers on your machine, GPU will not be used.\n",
      "2023-06-15 20:35:27.751463: I tensorflow/tsl/cuda/cudart_stub.cc:28] Could not find cuda drivers on your machine, GPU will not be used.\n",
      "2023-06-15 20:35:27.752582: I tensorflow/core/platform/cpu_feature_guard.cc:182] This TensorFlow binary is optimized to use available CPU instructions in performance-critical operations.\n",
      "To enable the following instructions: AVX2 FMA, in other operations, rebuild TensorFlow with the appropriate compiler flags.\n",
      "2023-06-15 20:35:28.683585: W tensorflow/compiler/tf2tensorrt/utils/py_utils.cc:38] TF-TRT Warning: Could not find TensorRT\n"
     ]
    }
   ],
   "source": [
    "import tensorflow as tf\n",
    "try:\n",
    "    tf1 = tf.compat.v1\n",
    "except (ImportError, AttributeError):\n",
    "    tf1 = tf"
   ]
  },
  {
   "cell_type": "markdown",
   "metadata": {},
   "source": [
    "切换到 `models/research/slim` 目录下："
   ]
  },
  {
   "cell_type": "code",
   "execution_count": 2,
   "metadata": {},
   "outputs": [
    {
     "name": "stdout",
     "output_type": "stream",
     "text": [
      "/media/pc/data/lxw/ai/tasks/models/research/slim\n"
     ]
    }
   ],
   "source": [
    "%cd /media/pc/data/lxw/ai/tasks/models/research/slim"
   ]
  },
  {
   "attachments": {},
   "cell_type": "markdown",
   "metadata": {},
   "source": [
    "将 ckpt 模型转换为 pb 模型："
   ]
  },
  {
   "cell_type": "code",
   "execution_count": 3,
   "metadata": {},
   "outputs": [
    {
     "name": "stderr",
     "output_type": "stream",
     "text": [
      "2023-06-15 20:35:30.434574: W tensorflow/core/common_runtime/gpu/gpu_device.cc:1956] Cannot dlopen some GPU libraries. Please make sure the missing libraries mentioned above are installed properly if you would like to use GPU. Follow the guide at https://www.tensorflow.org/install/gpu for how to download and setup the required libraries for your platform.\n",
      "Skipping registering GPU devices...\n",
      "2023-06-15 20:35:30.500596: I tensorflow/compiler/mlir/mlir_graph_optimization_pass.cc:353] MLIR V1 optimization pass is not enabled\n",
      "/media/pc/data/tmp/cache/conda/envs/tvmz/lib/python3.10/site-packages/tensorflow/python/keras/engine/base_layer_v1.py:1694: UserWarning: `layer.apply` is deprecated and will be removed in a future version. Please use `layer.__call__` method instead.\n",
      "  warnings.warn('`layer.apply` is deprecated and '\n"
     ]
    }
   ],
   "source": [
    "import tensorflow as tf\n",
    "try:\n",
    "    tf1 = tf.compat.v1\n",
    "except (ImportError, AttributeError):\n",
    "    tf1 = tf\n",
    "from PIL import Image\n",
    "import numpy as np\n",
    "from nets import resnet_v2\n",
    "from preprocessing.preprocessing_factory import get_preprocessing\n",
    "import tf_slim as slim\n",
    "import shutil\n",
    "\n",
    "def remove_dir(path):\n",
    "    try:\n",
    "        shutil.rmtree(path)\n",
    "    except:\n",
    "        ...\n",
    "# from tensorflow.python.platform import gfile\n",
    "# from tensorflow.python.tools import freeze_graph\n",
    "tf.get_logger().setLevel('ERROR')\n",
    "preprocessing = get_preprocessing(\"resnet_v2_50\")\n",
    "image_size = 224\n",
    "path = '/media/pc/data/board/arria10/lxw/data/test/cat.png' # 将要预测的图片路径\n",
    "checkpoints_path = \"/media/pc/data/board/arria10/lxw/tests/npu_user_demos/models/resnet50_v2_tf/weight/resnet_v2_50.ckpt\"\n",
    "with Image.open(path) as im:\n",
    "    if im.mode != \"RGB\":\n",
    "        im.convert(\"RGB\")\n",
    "    image = np.asarray(im)\n",
    "# 预处理\n",
    "\n",
    "model_dir = 'temp/resnet_v2_50'\n",
    "remove_dir(model_dir)\n",
    "with tf1.Graph().as_default() as graph:\n",
    "    image = tf.constant(image)\n",
    "    processed_image = preprocessing(image, image_size, image_size)\n",
    "    _processed_images  = tf.expand_dims(processed_image/256, 0)\n",
    "    with tf1.Session() as sess:\n",
    "        np_processed_images = sess.run(_processed_images)\n",
    "    processed_images = tf.constant(np_processed_images)\n",
    "    # 创建模型时，使用默认的参数范围（arg scope）来配置批归一化（batch norm）参数。\n",
    "    with slim.arg_scope(resnet_v2.resnet_arg_scope()):\n",
    "        logits, end_points = resnet_v2.resnet_v2_50(processed_images, num_classes=1001,\n",
    "                                                    global_pool=True,\n",
    "                                                    is_training=False)\n",
    "    probabilities = tf.nn.softmax(logits)\n",
    "    variables = slim.get_model_variables('resnet_v2_50')\n",
    "    init_fn = slim.assign_from_checkpoint_fn(checkpoints_path, variables)\n",
    "    with tf1.Session() as sess:\n",
    "        init_fn(sess)\n",
    "        # np_probabilities, np_processed_images = sess.run([probabilities, processed_images])\n",
    "        np_probabilities = sess.run(probabilities)\n",
    "        tf1.saved_model.simple_save(\n",
    "            sess, model_dir,\n",
    "            inputs={'inputs': processed_images},\n",
    "            outputs={'output': probabilities}\n",
    "        )"
   ]
  },
  {
   "attachments": {},
   "cell_type": "markdown",
   "metadata": {},
   "source": [
    "加载保存的模型："
   ]
  },
  {
   "cell_type": "code",
   "execution_count": 4,
   "metadata": {},
   "outputs": [],
   "source": [
    "import tensorflow as tf\n",
    "try:\n",
    "    tf1 = tf.compat.v1\n",
    "except (ImportError, AttributeError):\n",
    "    tf1 = tf\n",
    "from PIL import Image\n",
    "import numpy as np\n",
    "tf.get_logger().setLevel('ERROR')\n",
    "\n",
    "def preprocess_image(image, output_height, output_width):\n",
    "    with tf1.Graph().as_default() as graph:\n",
    "        image = tf.constant(image)\n",
    "        processed_image = preprocessing(image, output_height, output_width)\n",
    "        _processed_image  = processed_image/256\n",
    "        with tf1.Session() as sess:\n",
    "            np_processed_image = sess.run(_processed_image)\n",
    "    return np_processed_image\n",
    "\n",
    "image_size = 224\n",
    "path = '/media/pc/data/board/arria10/lxw/data/test/cat.png' # 将要预测的图片路径\n",
    "with Image.open(path) as im:\n",
    "    if im.mode != \"RGB\":\n",
    "        im.convert(\"RGB\")\n",
    "    image = np.asarray(im)\n",
    "# 预处理\n",
    "\n",
    "model_dir = 'temp/resnet_v2_50'\n",
    "# remove_dir(model_dir)\n",
    "np_processed_image = preprocess_image(image, image_size, image_size)\n",
    "np_processed_images = np.expand_dims(np_processed_image, axis=0)\n",
    "# 加载模型\n",
    "loaded_model = tf.saved_model.load(model_dir)\n",
    "loaded_model = loaded_model.signatures[tf.saved_model.DEFAULT_SERVING_SIGNATURE_DEF_KEY]\n",
    "out = loaded_model(tf.constant(np_processed_images))['output'].numpy()"
   ]
  },
  {
   "attachments": {},
   "cell_type": "markdown",
   "metadata": {},
   "source": [
    "打印标签信息："
   ]
  },
  {
   "cell_type": "code",
   "execution_count": 5,
   "metadata": {},
   "outputs": [
    {
     "name": "stdout",
     "output_type": "stream",
     "text": [
      "282: tiger cat           \t0.15822742879390717\n",
      "285: Egyptian cat        \t0.0009194915182888508\n",
      "281: tabby, tabby cat    \t9.054027759702876e-05\n",
      "278: kit fox, Vulpes macrotis\t0.0044543202966451645\n",
      "277: red fox, Vulpes vulpes\t2.409669548342208e-07\n"
     ]
    }
   ],
   "source": [
    "from github import Github\n",
    "\n",
    "\n",
    "g = Github(user_agent=\"xinetzone\")\n",
    "repo = g.get_repo(\"tensorflow/models\")\n",
    "label_content = repo.get_contents(\"research/slim/datasets/imagenet_lsvrc_2015_synsets.txt\")\n",
    "imagenet_labels = label_content.decoded_content.decode().split()\n",
    "assert len(imagenet_labels) == 1000\n",
    "metadata = repo.get_contents(\"research/slim/datasets/imagenet_metadata.txt\")\n",
    "imagenet_metadata = metadata.decoded_content.decode().splitlines()\n",
    "synset_to_human = {}\n",
    "for metadata in imagenet_metadata:\n",
    "    name, value = metadata.split(\"\\t\")\n",
    "    synset_to_human[name] = value\n",
    "name2id = {name: k+1 for k, name in enumerate(imagenet_labels)}\n",
    "\n",
    "topk = 5\n",
    "sorted_inds = out[0].argsort()[::-1]\n",
    "for sorted_ind in sorted_inds[:topk]:\n",
    "    label = synset_to_human[imagenet_labels[sorted_ind-1]]\n",
    "    print(f\"{sorted_ind-1}: {label.ljust(20)}\\t{out[0][sorted_ind-1]}\")"
   ]
  },
  {
   "cell_type": "code",
   "execution_count": null,
   "metadata": {},
   "outputs": [],
   "source": []
  }
 ],
 "metadata": {
  "kernelspec": {
   "display_name": "tvmz",
   "language": "python",
   "name": "python3"
  },
  "language_info": {
   "codemirror_mode": {
    "name": "ipython",
    "version": 3
   },
   "file_extension": ".py",
   "mimetype": "text/x-python",
   "name": "python",
   "nbconvert_exporter": "python",
   "pygments_lexer": "ipython3",
   "version": "3.10.11"
  },
  "orig_nbformat": 4
 },
 "nbformat": 4,
 "nbformat_minor": 2
}
