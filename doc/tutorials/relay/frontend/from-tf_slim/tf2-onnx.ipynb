{
 "cells": [
  {
   "attachments": {},
   "cell_type": "markdown",
   "metadata": {},
   "source": [
    "# TensorFlow2 转换为 ONNX 推理\n",
    "\n",
    "参考：[migrating_checkpoints](https://www.tensorflow.org/guide/migrate/migrating_checkpoints)\n",
    "\n",
    "下面以模型 [resnet_v2_50](http://download.tensorflow.org/models/resnet_v2_50_2017_04_14.tar.gz) 为例展示。\n",
    "\n",
    "需要克隆项目 [models](https://github.com/tensorflow/models)，然后执行如下操作。"
   ]
  },
  {
   "cell_type": "code",
   "execution_count": 1,
   "metadata": {},
   "outputs": [
    {
     "name": "stderr",
     "output_type": "stream",
     "text": [
      "2023-06-16 17:32:16.513696: I tensorflow/tsl/cuda/cudart_stub.cc:28] Could not find cuda drivers on your machine, GPU will not be used.\n",
      "2023-06-16 17:32:16.563629: I tensorflow/tsl/cuda/cudart_stub.cc:28] Could not find cuda drivers on your machine, GPU will not be used.\n",
      "2023-06-16 17:32:16.564661: I tensorflow/core/platform/cpu_feature_guard.cc:182] This TensorFlow binary is optimized to use available CPU instructions in performance-critical operations.\n",
      "To enable the following instructions: AVX2 FMA, in other operations, rebuild TensorFlow with the appropriate compiler flags.\n",
      "2023-06-16 17:32:17.411976: W tensorflow/compiler/tf2tensorrt/utils/py_utils.cc:38] TF-TRT Warning: Could not find TensorRT\n"
     ]
    }
   ],
   "source": [
    "import tensorflow as tf\n",
    "try:\n",
    "    tf1 = tf.compat.v1\n",
    "except (ImportError, AttributeError):\n",
    "    tf1 = tf\n",
    "tf.get_logger().setLevel('ERROR')"
   ]
  },
  {
   "cell_type": "markdown",
   "metadata": {},
   "source": [
    "切换到 `models/research/slim` 目录下："
   ]
  },
  {
   "cell_type": "code",
   "execution_count": 2,
   "metadata": {},
   "outputs": [
    {
     "name": "stdout",
     "output_type": "stream",
     "text": [
      "/media/pc/data/lxw/ai/tasks/models/research/slim\n"
     ]
    }
   ],
   "source": [
    "%cd /media/pc/data/lxw/ai/tasks/models/research/slim"
   ]
  },
  {
   "cell_type": "markdown",
   "metadata": {},
   "source": [
    "将 TF1 升级为 TF2："
   ]
  },
  {
   "cell_type": "code",
   "execution_count": 3,
   "metadata": {},
   "outputs": [],
   "source": [
    "from nets import resnet_v2\n",
    "import tf_slim as slim\n",
    "\n",
    "\n",
    "class ResnetV2_50_block(tf.keras.layers.Layer):\n",
    "    def __init__(self, trainable=False, \n",
    "                 name=\"resnet_v2_50\", \n",
    "                 dtype=None, dynamic=False, **kwargs):\n",
    "        super().__init__(trainable, name, dtype, dynamic, **kwargs)\n",
    "\n",
    "    @tf1.keras.utils.track_tf1_style_variables\n",
    "    def call(self, inputs):\n",
    "        with slim.arg_scope(resnet_v2.resnet_arg_scope()):\n",
    "            logits, end_points = resnet_v2.resnet_v2_50(\n",
    "                inputs, \n",
    "                num_classes=1001,\n",
    "                global_pool=True,\n",
    "                is_training=self.trainable,\n",
    "                scope=self.name\n",
    "            )\n",
    "        del end_points\n",
    "        return tf.nn.softmax(logits)\n",
    "\n",
    "class ResnetV2_50(tf.keras.Model):\n",
    "    def __init__(self, trainable=False, \n",
    "                 name=\"resnet_v2_50\", \n",
    "                 dtype=None, dynamic=False, **kwargs):\n",
    "        super().__init__()\n",
    "        self.block = ResnetV2_50_block(\n",
    "            trainable=trainable, \n",
    "            name=name, dtype=dtype, \n",
    "            dynamic=dynamic, **kwargs\n",
    "        )\n",
    "\n",
    "    @tf.function(input_signature=[tf.TensorSpec([None, 224, 224, 3], \n",
    "                                                 tf.float32, name=\"data\")])\n",
    "    def call(self, inputs):\n",
    "        x = self.block(inputs)\n",
    "        return x"
   ]
  },
  {
   "attachments": {},
   "cell_type": "markdown",
   "metadata": {},
   "source": [
    "预处理："
   ]
  },
  {
   "cell_type": "code",
   "execution_count": 4,
   "metadata": {},
   "outputs": [
    {
     "name": "stderr",
     "output_type": "stream",
     "text": [
      "2023-06-16 17:32:19.387439: W tensorflow/core/common_runtime/gpu/gpu_device.cc:1956] Cannot dlopen some GPU libraries. Please make sure the missing libraries mentioned above are installed properly if you would like to use GPU. Follow the guide at https://www.tensorflow.org/install/gpu for how to download and setup the required libraries for your platform.\n",
      "Skipping registering GPU devices...\n"
     ]
    }
   ],
   "source": [
    "from PIL import Image\n",
    "import numpy as np\n",
    "from nets import resnet_v2\n",
    "from preprocessing.preprocessing_factory import get_preprocessing\n",
    "import tf_slim as slim\n",
    "\n",
    "preprocessing = get_preprocessing(\"resnet_v2_50\")\n",
    "image_size = 224\n",
    "path = '/media/pc/data/board/arria10/lxw/data/test/cat.png' # 将要预测的图片路径\n",
    "preprocessing = get_preprocessing(\"resnet_v2_50\")\n",
    "\n",
    "\n",
    "@tf.function\n",
    "def preprocess_image(image, output_height, output_width):\n",
    "    # image = tf.constant(image)\n",
    "    processed_image = preprocessing(image, output_height, output_width)\n",
    "    return processed_image/256\n",
    "with Image.open(path) as im:\n",
    "    if im.mode != \"RGB\":\n",
    "        im.convert(\"RGB\")\n",
    "    image = np.asarray(im)\n",
    "np_processed_image = preprocess_image(image, image_size, image_size)\n",
    "np_processed_images = np.expand_dims(np_processed_image, axis=0)"
   ]
  },
  {
   "attachments": {},
   "cell_type": "markdown",
   "metadata": {},
   "source": [
    "前向推理："
   ]
  },
  {
   "cell_type": "code",
   "execution_count": 5,
   "metadata": {},
   "outputs": [
    {
     "name": "stderr",
     "output_type": "stream",
     "text": [
      "/media/pc/data/tmp/cache/conda/envs/tvmz/lib/python3.10/site-packages/tensorflow/python/keras/engine/base_layer.py:2212: UserWarning: `layer.apply` is deprecated and will be removed in a future version. Please use `layer.__call__` method instead.\n",
      "  warnings.warn('`layer.apply` is deprecated and '\n",
      "/media/pc/data/tmp/cache/conda/envs/tvmz/lib/python3.10/site-packages/tensorflow/python/keras/engine/base_layer.py:1345: UserWarning: `layer.updates` will be removed in a future version. This property should not be used in TensorFlow 2.0, as `updates` are applied automatically.\n",
      "  warnings.warn('`layer.updates` will be removed in a future version. '\n",
      "/media/pc/data/tmp/cache/conda/envs/tvmz/lib/python3.10/site-packages/keras/legacy_tf_layers/base.py:627: UserWarning: `layer.updates` will be removed in a future version. This property should not be used in TensorFlow 2.0, as `updates` are applied automatically.\n",
      "  self.updates, tf.compat.v1.GraphKeys.UPDATE_OPS\n"
     ]
    }
   ],
   "source": [
    "model = ResnetV2_50()\n",
    "model(tf.ones(shape=(1, 224, 224, 3), dtype=tf.float32))\n",
    "ckpt = tf.train.Checkpoint(model=model)\n",
    "ckpt.restore(\"/tmp/checkpoints/resnet_v2_50.ckpt\") # 更新模型参数\n",
    "outputs = model(np_processed_images)\n",
    "outputs = outputs.numpy()"
   ]
  },
  {
   "attachments": {},
   "cell_type": "markdown",
   "metadata": {},
   "source": [
    "打印标签信息："
   ]
  },
  {
   "cell_type": "code",
   "execution_count": 6,
   "metadata": {},
   "outputs": [
    {
     "name": "stdout",
     "output_type": "stream",
     "text": [
      "282: tiger cat           \t0.15822742879390717\n",
      "285: Egyptian cat        \t0.0009194915182888508\n",
      "281: tabby, tabby cat    \t9.054027759702876e-05\n",
      "278: kit fox, Vulpes macrotis\t0.0044543202966451645\n",
      "277: red fox, Vulpes vulpes\t2.409669548342208e-07\n"
     ]
    }
   ],
   "source": [
    "from github import Github\n",
    "\n",
    "g = Github(user_agent=\"xinetzone\")\n",
    "repo = g.get_repo(\"tensorflow/models\")\n",
    "label_content = repo.get_contents(\"research/slim/datasets/imagenet_lsvrc_2015_synsets.txt\")\n",
    "imagenet_labels = label_content.decoded_content.decode().split()\n",
    "assert len(imagenet_labels) == 1000\n",
    "metadata = repo.get_contents(\"research/slim/datasets/imagenet_metadata.txt\")\n",
    "imagenet_metadata = metadata.decoded_content.decode().splitlines()\n",
    "synset_to_human = {}\n",
    "for metadata in imagenet_metadata:\n",
    "    name, value = metadata.split(\"\\t\")\n",
    "    synset_to_human[name] = value\n",
    "name2id = {name: k+1 for k, name in enumerate(imagenet_labels)}\n",
    "\n",
    "topk = 5\n",
    "sorted_inds = outputs[0].argsort()[::-1]\n",
    "for sorted_ind in sorted_inds[:topk]:\n",
    "    label = synset_to_human[imagenet_labels[sorted_ind-1]]\n",
    "    print(f\"{sorted_ind-1}: {label.ljust(20)}\\t{outputs[0][sorted_ind-1]}\")"
   ]
  },
  {
   "cell_type": "code",
   "execution_count": 7,
   "metadata": {},
   "outputs": [
    {
     "name": "stdout",
     "output_type": "stream",
     "text": [
      "Model: \"resnet_v2_50\"\n",
      "_________________________________________________________________\n",
      " Layer (type)                Output Shape              Param #   \n",
      "=================================================================\n",
      " resnet_v2_50 (ResnetV2_50_b  multiple                 25615849  \n",
      " lock)                                                           \n",
      "                                                                 \n",
      "=================================================================\n",
      "Total params: 25,615,849\n",
      "Trainable params: 0\n",
      "Non-trainable params: 25,615,849\n",
      "_________________________________________________________________\n"
     ]
    }
   ],
   "source": [
    "model.summary()"
   ]
  },
  {
   "attachments": {},
   "cell_type": "markdown",
   "metadata": {},
   "source": [
    "将其模型和参数与加载下来："
   ]
  },
  {
   "cell_type": "code",
   "execution_count": 8,
   "metadata": {},
   "outputs": [],
   "source": [
    "# # model = ResnetV2_50()\n",
    "# inputs = tf.keras.Input(shape=(224, 224, 3), dtype=tf.float32, name=\"data\")\n",
    "# outputs = model(inputs)\n",
    "# model2 = tf.keras.Model(inputs=inputs, outputs=outputs, name=\"resnet_v2_50_model\")\n",
    "\n",
    "# model2.save(module_with_signature_path)"
   ]
  },
  {
   "cell_type": "code",
   "execution_count": 9,
   "metadata": {},
   "outputs": [
    {
     "name": "stderr",
     "output_type": "stream",
     "text": [
      "/media/pc/data/tmp/cache/conda/envs/tvmz/lib/python3.10/site-packages/tensorflow/python/keras/engine/base_layer.py:2212: UserWarning: `layer.apply` is deprecated and will be removed in a future version. Please use `layer.__call__` method instead.\n",
      "  warnings.warn('`layer.apply` is deprecated and '\n",
      "/media/pc/data/tmp/cache/conda/envs/tvmz/lib/python3.10/site-packages/tensorflow/python/keras/engine/base_layer.py:1345: UserWarning: `layer.updates` will be removed in a future version. This property should not be used in TensorFlow 2.0, as `updates` are applied automatically.\n",
      "  warnings.warn('`layer.updates` will be removed in a future version. '\n",
      "/media/pc/data/tmp/cache/conda/envs/tvmz/lib/python3.10/site-packages/keras/legacy_tf_layers/base.py:627: UserWarning: `layer.updates` will be removed in a future version. This property should not be used in TensorFlow 2.0, as `updates` are applied automatically.\n",
      "  self.updates, tf.compat.v1.GraphKeys.UPDATE_OPS\n",
      "/media/pc/data/tmp/cache/conda/envs/tvmz/lib/python3.10/site-packages/tensorflow/python/keras/engine/base_layer.py:2212: UserWarning: `layer.apply` is deprecated and will be removed in a future version. Please use `layer.__call__` method instead.\n",
      "  warnings.warn('`layer.apply` is deprecated and '\n",
      "/media/pc/data/tmp/cache/conda/envs/tvmz/lib/python3.10/site-packages/tensorflow/python/keras/engine/base_layer.py:1345: UserWarning: `layer.updates` will be removed in a future version. This property should not be used in TensorFlow 2.0, as `updates` are applied automatically.\n",
      "  warnings.warn('`layer.updates` will be removed in a future version. '\n",
      "/media/pc/data/tmp/cache/conda/envs/tvmz/lib/python3.10/site-packages/keras/legacy_tf_layers/base.py:627: UserWarning: `layer.updates` will be removed in a future version. This property should not be used in TensorFlow 2.0, as `updates` are applied automatically.\n",
      "  self.updates, tf.compat.v1.GraphKeys.UPDATE_OPS\n"
     ]
    }
   ],
   "source": [
    "module_with_signature_path = \"temp/resnet_v2_50_keras\"\n",
    "model.save(module_with_signature_path)\n",
    "imported_with_signatures = tf.saved_model.load(module_with_signature_path)\n",
    "infer = imported_with_signatures.signatures['serving_default']\n",
    "labeling = infer(tf.constant(np_processed_images))"
   ]
  },
  {
   "attachments": {},
   "cell_type": "markdown",
   "metadata": {},
   "source": [
    "## ONNX (TF2) 前端推理"
   ]
  },
  {
   "attachments": {},
   "cell_type": "markdown",
   "metadata": {},
   "source": [
    "[Keras 模型转换 ONNX](https://onnxruntime.ai/docs/tutorials/tf-get-started.html)："
   ]
  },
  {
   "cell_type": "code",
   "execution_count": 12,
   "metadata": {},
   "outputs": [
    {
     "name": "stderr",
     "output_type": "stream",
     "text": [
      "2023-06-16 17:35:47.187897: I tensorflow/core/grappler/devices.cc:66] Number of eligible GPUs (core count >= 8, compute capability >= 0.0): 2\n",
      "2023-06-16 17:35:47.188039: I tensorflow/core/grappler/clusters/single_machine.cc:358] Starting new session\n",
      "2023-06-16 17:35:47.188735: W tensorflow/core/common_runtime/gpu/gpu_device.cc:1956] Cannot dlopen some GPU libraries. Please make sure the missing libraries mentioned above are installed properly if you would like to use GPU. Follow the guide at https://www.tensorflow.org/install/gpu for how to download and setup the required libraries for your platform.\n",
      "Skipping registering GPU devices...\n",
      "2023-06-16 17:35:48.946008: I tensorflow/core/grappler/devices.cc:66] Number of eligible GPUs (core count >= 8, compute capability >= 0.0): 2\n",
      "2023-06-16 17:35:48.946161: I tensorflow/core/grappler/clusters/single_machine.cc:358] Starting new session\n",
      "2023-06-16 17:35:48.946861: W tensorflow/core/common_runtime/gpu/gpu_device.cc:1956] Cannot dlopen some GPU libraries. Please make sure the missing libraries mentioned above are installed properly if you would like to use GPU. Follow the guide at https://www.tensorflow.org/install/gpu for how to download and setup the required libraries for your platform.\n",
      "Skipping registering GPU devices...\n"
     ]
    }
   ],
   "source": [
    "import tf2onnx\n",
    "import onnx\n",
    "\n",
    "input_signature = [tf.TensorSpec([1, 224, 224, 3], tf.float32, name=\"data\")]\n",
    "# Use from_function for tf functions\n",
    "onnx_model, _ = tf2onnx.convert.from_keras(model, input_signature, opset=13)\n",
    "onnx.save(onnx_model, \"temp/resnet_v2_50.onnx\")"
   ]
  },
  {
   "attachments": {},
   "cell_type": "markdown",
   "metadata": {},
   "source": [
    "构建库："
   ]
  },
  {
   "cell_type": "code",
   "execution_count": 16,
   "metadata": {},
   "outputs": [],
   "source": [
    "import set_env\n",
    "from tvm.relay.frontend import from_onnx\n",
    "\n",
    "shape_dict = {\n",
    "    \"data\": [1, 224, 224, 3],\n",
    "}\n",
    "\n",
    "graph_def = onnx.load(\"temp/resnet_v2_50.onnx\")\n",
    "\n",
    "mod, params = from_onnx(\n",
    "    graph_def,\n",
    "    shape_dict,\n",
    "    opset=13,\n",
    "    freeze_params=True\n",
    ")"
   ]
  },
  {
   "attachments": {},
   "cell_type": "markdown",
   "metadata": {},
   "source": [
    "推理："
   ]
  },
  {
   "cell_type": "code",
   "execution_count": 18,
   "metadata": {},
   "outputs": [
    {
     "name": "stderr",
     "output_type": "stream",
     "text": [
      "One or more operators have not been tuned. Please tune your model for better performance. Use DEBUG logging level to see more details.\n"
     ]
    }
   ],
   "source": [
    "import tvm\n",
    "from tvm import relay\n",
    "\n",
    "with tvm.transform.PassContext(opt_level=3):\n",
    "    lib = relay.build(mod, \"llvm\", params=params)\n",
    "    \n",
    "inputs_dict = {\"data\": np_processed_images}\n",
    "mlib_proxy = tvm.contrib.graph_executor.GraphModule(lib[\"default\"](tvm.cpu()))\n",
    "mlib_proxy.run(**inputs_dict)"
   ]
  },
  {
   "cell_type": "markdown",
   "metadata": {},
   "source": [
    "验证一致性："
   ]
  },
  {
   "cell_type": "code",
   "execution_count": 26,
   "metadata": {},
   "outputs": [],
   "source": [
    "np.testing.assert_allclose(\n",
    "    labeling['output_1'].numpy(), \n",
    "    mlib_proxy.get_output(0).numpy(),\n",
    "    rtol=1e-07, atol=1e-5\n",
    ")"
   ]
  }
 ],
 "metadata": {
  "kernelspec": {
   "display_name": "tvmz",
   "language": "python",
   "name": "python3"
  },
  "language_info": {
   "codemirror_mode": {
    "name": "ipython",
    "version": 3
   },
   "file_extension": ".py",
   "mimetype": "text/x-python",
   "name": "python",
   "nbconvert_exporter": "python",
   "pygments_lexer": "ipython3",
   "version": "3.10.11"
  },
  "orig_nbformat": 4
 },
 "nbformat": 4,
 "nbformat_minor": 2
}
