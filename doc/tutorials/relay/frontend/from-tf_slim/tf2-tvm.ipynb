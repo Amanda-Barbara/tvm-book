{
 "cells": [
  {
   "cell_type": "markdown",
   "metadata": {},
   "source": [
    "# TensorFlow2 TVM 前端"
   ]
  },
  {
   "cell_type": "code",
   "execution_count": 1,
   "metadata": {},
   "outputs": [
    {
     "ename": "ModuleNotFoundError",
     "evalue": "No module named 'tvm'",
     "output_type": "error",
     "traceback": [
      "\u001b[0;31m---------------------------------------------------------------------------\u001b[0m",
      "\u001b[0;31mModuleNotFoundError\u001b[0m                       Traceback (most recent call last)",
      "Cell \u001b[0;32mIn[1], line 1\u001b[0m\n\u001b[0;32m----> 1\u001b[0m \u001b[39mimport\u001b[39;00m \u001b[39mtvm\u001b[39;00m\n",
      "\u001b[0;31mModuleNotFoundError\u001b[0m: No module named 'tvm'"
     ]
    }
   ],
   "source": [
    "import tvm"
   ]
  },
  {
   "cell_type": "code",
   "execution_count": null,
   "metadata": {},
   "outputs": [],
   "source": [
    "from tensorflow.python.eager.def_function import Function\n",
    "import tvm\n",
    "\n",
    "def run_tf_code(func, input_):\n",
    "    if type(func) is Function:\n",
    "        f_out = func(input_)\n",
    "        if isinstance(f_out, (list, tuple)):\n",
    "            np_out = [x.numpy() for x in f_out]\n",
    "        else:\n",
    "            np_out = [f_out.numpy()]\n",
    "    else:\n",
    "        f_out = func(tf.constant(input_))\n",
    "        if type(f_out) is dict:\n",
    "            np_out = [f_out[k].numpy() for k in sorted(f_out.keys())]\n",
    "        elif type(f_out) is list:\n",
    "            np_out = [x.numpy() for x in f_out]\n",
    "        else:\n",
    "            np_out = f_out.numpy()\n",
    "    return np_out\n",
    "\n",
    "def run_graph_executor(lib, input_, ctx=tvm.cpu(0)):\n",
    "    mod = runtime.GraphModule(lib[\"default\"](ctx))\n",
    "    mod.set_input(0, input_)\n",
    "    mod.run()\n",
    "    return [mod.get_output(i).numpy() for i in range(mod.get_num_outputs())]"
   ]
  },
  {
   "cell_type": "code",
   "execution_count": null,
   "metadata": {},
   "outputs": [],
   "source": [
    "class AddOne(tf.Module):\n",
    "        \"\"\"simple function to test x=x+1; scalar as input\"\"\"\n",
    "\n",
    "        def get_input(self):\n",
    "            return np.array(1.0, dtype=\"float32\")\n",
    "\n",
    "        @tf.function(input_signature=[tf.TensorSpec(shape=(), dtype=tf.float32)])\n",
    "        def func(self, x):\n",
    "            return x + 1"
   ]
  }
 ],
 "metadata": {
  "kernelspec": {
   "display_name": "tvmz",
   "language": "python",
   "name": "python3"
  },
  "language_info": {
   "codemirror_mode": {
    "name": "ipython",
    "version": 3
   },
   "file_extension": ".py",
   "mimetype": "text/x-python",
   "name": "python",
   "nbconvert_exporter": "python",
   "pygments_lexer": "ipython3",
   "version": "3.10.11"
  },
  "orig_nbformat": 4
 },
 "nbformat": 4,
 "nbformat_minor": 2
}
