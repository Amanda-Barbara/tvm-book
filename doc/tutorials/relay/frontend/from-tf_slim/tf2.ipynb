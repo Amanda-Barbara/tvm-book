{
 "cells": [
  {
   "attachments": {},
   "cell_type": "markdown",
   "metadata": {},
   "source": [
    "# TensorFlow2 推理\n",
    "\n",
    "参考：[migrating_checkpoints](https://www.tensorflow.org/guide/migrate/migrating_checkpoints)\n",
    "\n",
    "下面以模型 [resnet_v2_50](http://download.tensorflow.org/models/resnet_v2_50_2017_04_14.tar.gz) 为例展示。\n",
    "\n",
    "需要克隆项目 [models](https://github.com/tensorflow/models)，然后执行如下操作。"
   ]
  },
  {
   "cell_type": "code",
   "execution_count": 1,
   "metadata": {},
   "outputs": [
    {
     "name": "stderr",
     "output_type": "stream",
     "text": [
      "2023-06-15 19:39:52.245278: I tensorflow/tsl/cuda/cudart_stub.cc:28] Could not find cuda drivers on your machine, GPU will not be used.\n",
      "2023-06-15 19:39:52.295369: I tensorflow/tsl/cuda/cudart_stub.cc:28] Could not find cuda drivers on your machine, GPU will not be used.\n",
      "2023-06-15 19:39:52.297971: I tensorflow/core/platform/cpu_feature_guard.cc:182] This TensorFlow binary is optimized to use available CPU instructions in performance-critical operations.\n",
      "To enable the following instructions: AVX2 FMA, in other operations, rebuild TensorFlow with the appropriate compiler flags.\n",
      "2023-06-15 19:39:53.177568: W tensorflow/compiler/tf2tensorrt/utils/py_utils.cc:38] TF-TRT Warning: Could not find TensorRT\n"
     ]
    }
   ],
   "source": [
    "import tensorflow as tf\n",
    "try:\n",
    "    tf1 = tf.compat.v1\n",
    "except (ImportError, AttributeError):\n",
    "    tf1 = tf\n",
    "tf.get_logger().setLevel('ERROR')"
   ]
  },
  {
   "cell_type": "markdown",
   "metadata": {},
   "source": [
    "切换到 `models/research/slim` 目录下："
   ]
  },
  {
   "cell_type": "code",
   "execution_count": 2,
   "metadata": {},
   "outputs": [
    {
     "name": "stdout",
     "output_type": "stream",
     "text": [
      "/media/pc/data/lxw/ai/tasks/models/research/slim\n"
     ]
    }
   ],
   "source": [
    "%cd /media/pc/data/lxw/ai/tasks/models/research/slim"
   ]
  },
  {
   "cell_type": "markdown",
   "metadata": {},
   "source": [
    "将 TF1 升级为 TF2："
   ]
  },
  {
   "cell_type": "code",
   "execution_count": 4,
   "metadata": {},
   "outputs": [],
   "source": [
    "from nets import resnet_v2\n",
    "import tf_slim as slim\n",
    "\n",
    "\n",
    "class ResnetV2_50(tf.keras.layers.Layer):\n",
    "    def __init__(self, image_size, num_classes=1001, trainable=True, \n",
    "                 name=\"resnet_v2_50\", dtype=None, dynamic=False, **kwargs):\n",
    "        super().__init__(trainable, name, dtype, dynamic, **kwargs)\n",
    "        self.image_size = image_size\n",
    "        self.num_classes = num_classes\n",
    "        # self.preprocessing = get_preprocessing(self.name)\n",
    "\n",
    "    @tf1.keras.utils.track_tf1_style_variables\n",
    "    def call(self, inputs, training=False):\n",
    "        is_training = training or False \n",
    "        with slim.arg_scope(resnet_v2.resnet_arg_scope()):\n",
    "            logits, end_points = resnet_v2.resnet_v2_50(\n",
    "                inputs, \n",
    "                num_classes=self.num_classes,\n",
    "                global_pool=True,\n",
    "                is_training=is_training,\n",
    "                scope=self.name\n",
    "            )\n",
    "        return tf.nn.softmax(logits), end_points"
   ]
  },
  {
   "attachments": {},
   "cell_type": "markdown",
   "metadata": {},
   "source": [
    "预处理："
   ]
  },
  {
   "cell_type": "code",
   "execution_count": 5,
   "metadata": {},
   "outputs": [
    {
     "name": "stderr",
     "output_type": "stream",
     "text": [
      "2023-06-15 19:40:25.314629: W tensorflow/core/common_runtime/gpu/gpu_device.cc:1956] Cannot dlopen some GPU libraries. Please make sure the missing libraries mentioned above are installed properly if you would like to use GPU. Follow the guide at https://www.tensorflow.org/install/gpu for how to download and setup the required libraries for your platform.\n",
      "Skipping registering GPU devices...\n"
     ]
    }
   ],
   "source": [
    "from PIL import Image\n",
    "import numpy as np\n",
    "from nets import resnet_v2\n",
    "from preprocessing.preprocessing_factory import get_preprocessing\n",
    "import tf_slim as slim\n",
    "\n",
    "preprocessing = get_preprocessing(\"resnet_v2_50\")\n",
    "image_size = 224\n",
    "path = '/media/pc/data/board/arria10/lxw/data/test/cat.png' # 将要预测的图片路径\n",
    "preprocessing = get_preprocessing(\"resnet_v2_50\")\n",
    "\n",
    "\n",
    "@tf.function\n",
    "def preprocess_image(image, output_height, output_width):\n",
    "    # image = tf.constant(image)\n",
    "    processed_image = preprocessing(image, output_height, output_width)\n",
    "    return processed_image/256\n",
    "with Image.open(path) as im:\n",
    "    if im.mode != \"RGB\":\n",
    "        im.convert(\"RGB\")\n",
    "    image = np.asarray(im)\n",
    "np_processed_image = preprocess_image(image, image_size, image_size)\n",
    "np_processed_images = np.expand_dims(np_processed_image, axis=0)"
   ]
  },
  {
   "attachments": {},
   "cell_type": "markdown",
   "metadata": {},
   "source": [
    "前向推理："
   ]
  },
  {
   "cell_type": "code",
   "execution_count": 6,
   "metadata": {},
   "outputs": [
    {
     "name": "stderr",
     "output_type": "stream",
     "text": [
      "/media/pc/data/tmp/cache/conda/envs/tvmz/lib/python3.10/site-packages/tensorflow/python/keras/engine/base_layer.py:2212: UserWarning: `layer.apply` is deprecated and will be removed in a future version. Please use `layer.__call__` method instead.\n",
      "  warnings.warn('`layer.apply` is deprecated and '\n"
     ]
    }
   ],
   "source": [
    "model = ResnetV2_50(224)\n",
    "model(tf.ones(shape=(1, 224, 224, 3), dtype=tf.float32))\n",
    "ckpt = tf.train.Checkpoint(model=model)\n",
    "ckpt.restore(\"/tmp/checkpoints/resnet_v2_50.ckpt\") # 更新模型参数\n",
    "output, endpoints = model(np_processed_images)\n",
    "output = output.numpy()"
   ]
  },
  {
   "attachments": {},
   "cell_type": "markdown",
   "metadata": {},
   "source": [
    "打印标签信息："
   ]
  },
  {
   "cell_type": "code",
   "execution_count": 7,
   "metadata": {},
   "outputs": [
    {
     "name": "stdout",
     "output_type": "stream",
     "text": [
      "282: tiger cat           \t6.913422794241342e-07\n",
      "285: Egyptian cat        \t2.1831299079622113e-07\n",
      "281: tabby, tabby cat    \t1.9797682853095466e-06\n",
      "278: kit fox, Vulpes macrotis\t3.303630080608855e-08\n",
      "277: red fox, Vulpes vulpes\t1.9624657454642147e-07\n"
     ]
    }
   ],
   "source": [
    "from github import Github\n",
    "\n",
    "g = Github(user_agent=\"xinetzone\")\n",
    "repo = g.get_repo(\"tensorflow/models\")\n",
    "label_content = repo.get_contents(\"research/slim/datasets/imagenet_lsvrc_2015_synsets.txt\")\n",
    "imagenet_labels = label_content.decoded_content.decode().split()\n",
    "assert len(imagenet_labels) == 1000\n",
    "metadata = repo.get_contents(\"research/slim/datasets/imagenet_metadata.txt\")\n",
    "imagenet_metadata = metadata.decoded_content.decode().splitlines()\n",
    "synset_to_human = {}\n",
    "for metadata in imagenet_metadata:\n",
    "    name, value = metadata.split(\"\\t\")\n",
    "    synset_to_human[name] = value\n",
    "name2id = {name: k+1 for k, name in enumerate(imagenet_labels)}\n",
    "\n",
    "topk = 5\n",
    "sorted_inds = output[0].argsort()[::-1]\n",
    "for prob, sorted_ind in zip(output[0][:topk], sorted_inds[:topk]):\n",
    "    label = synset_to_human[imagenet_labels[sorted_ind-1]]\n",
    "    print(f\"{sorted_ind-1}: {label.ljust(20)}\\t{prob}\")"
   ]
  },
  {
   "cell_type": "code",
   "execution_count": null,
   "metadata": {},
   "outputs": [],
   "source": []
  }
 ],
 "metadata": {
  "kernelspec": {
   "display_name": "tvmz",
   "language": "python",
   "name": "python3"
  },
  "language_info": {
   "codemirror_mode": {
    "name": "ipython",
    "version": 3
   },
   "file_extension": ".py",
   "mimetype": "text/x-python",
   "name": "python",
   "nbconvert_exporter": "python",
   "pygments_lexer": "ipython3",
   "version": "3.10.11"
  },
  "orig_nbformat": 4
 },
 "nbformat": 4,
 "nbformat_minor": 2
}
